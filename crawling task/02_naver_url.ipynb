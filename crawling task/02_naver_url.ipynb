{
 "cells": [
  {
   "cell_type": "code",
   "execution_count": 19,
   "metadata": {},
   "outputs": [
    {
     "name": "stdout",
     "output_type": "stream",
     "text": [
      "<div class=\"area_links\">\n",
      "<a class=\"al_favorite\" data-clk=\"top.mkhome\" href=\"http://help.naver.com/support/alias/contents2/naverhome/naverhome_1.naver\">네이버를 시작페이지로<span class=\"al_ico_link\"></span></a>\n",
      "<span class=\"al_bar\"></span>\n",
      "<a class=\"al_jr\" data-clk=\"top.jrnaver\" href=\"http://jr.naver.com\"><span class=\"blind\">쥬니어네이버</span><span class=\"al_ico\"></span></a>\n",
      "<a class=\"al_happybean\" data-clk=\"top.happybean\" href=\"http://happybean.naver.com/main/SectionMain.nhn\"><span class=\"blind\">해피빈</span><span class=\"al_ico\"></span></a>\n",
      "</div>\n",
      "\n",
      "\n",
      "\n",
      "<a class=\"al_favorite\" data-clk=\"top.mkhome\" href=\"http://help.naver.com/support/alias/contents2/naverhome/naverhome_1.naver\">네이버를 시작페이지로<span class=\"al_ico_link\"></span></a>\n",
      "\n",
      "\n",
      "\n",
      "네이버를 시작페이지로\n"
     ]
    }
   ],
   "source": [
    "import urllib.request\n",
    "import bs4\n",
    "\n",
    "url=\"https://www.naver.com/\"\n",
    "html=urllib.request.urlopen(url)\n",
    "bsObj=bs4.BeautifulSoup(html, \"html.parser\")\n",
    "\n",
    "# print(html) #html소스가 제대로 온 것 확인할 수 있다. print(html.read()) 는 html 전체 불러옴\n",
    "# print(bsObj.find(\"div\"))\n",
    "\n",
    "top_right=bsObj.find(\"div\", {\"class\":\"area_links\"})\n",
    "\n",
    "print(top_right) \n",
    "print(\"\\n\\n\")\n",
    "print(top_right.find(\"a\"))\n",
    "print(\"\\n\\n\")\n",
    "print(top_right.find(\"a\").text)\n",
    "\n"
   ]
  },
  {
   "cell_type": "code",
   "execution_count": 35,
   "metadata": {},
   "outputs": [
    {
     "name": "stdout",
     "output_type": "stream",
     "text": [
      "메일\n",
      "카페\n",
      "블로그\n",
      "지식인\n",
      "쇼핑\n",
      "네이버페이\n",
      "네이버TV\n"
     ]
    }
   ],
   "source": [
    "#네이버 메뉴 수집하기\n",
    "\n",
    "import bs4\n",
    "import urllib.request\n",
    "\n",
    "url=\"https://www.naver.com/\"\n",
    "html=urllib.request.urlopen(url)\n",
    "bsObj=bs4.BeautifulSoup(html,\"html.parser\")\n",
    "\n",
    "ul_an_l=bsObj.find(\"ul\", {\"class\":\"an_l\"})\n",
    "#print(ul_an_l)\n",
    "'''\n",
    "for li in ul_an_l:\n",
    "    print(li)\n",
    "'''\n",
    "lis_menu=ul_an_l.findAll(\"li\") #findAll : <li></li> 들의 리스트 생성\n",
    "\n",
    "for li in lis_menu:\n",
    "    a_tag=li.find(\"a\")\n",
    "    span=a_tag.find(\"span\",{\"class\":\"an_txt\"})\n",
    "    print(span.text)\n"
   ]
  },
  {
   "cell_type": "code",
   "execution_count": 56,
   "metadata": {},
   "outputs": [
    {
     "name": "stdout",
     "output_type": "stream",
     "text": [
      "오늘의 기사는 : “이재용 파기환송심 불공평”…특검 ‘정준영 재판장’ 기피 신청\n",
      "                                    \n",
      "오늘의 기사는 : 군인 13명 확진…'부대 내 감염'에 야외 훈련 중단\n",
      "                                    \n",
      "오늘의 기사는 : 모리셔스 간 신혼부부 17쌍 격리…\"코리아라고 하니 데려가\"\n",
      "                                    \n",
      "오늘의 기사는 : “의심증상 있으면 출근·등교하지 마세요”…대국민 예방수칙 개정\n",
      "                                    \n",
      "오늘의 기사는 : 중국, '코로나19' 충격에 최대 정치행사 '양회' 날짜도 못정해\n",
      "                                    \n"
     ]
    }
   ],
   "source": [
    "#네이버 뉴스 크롤\n",
    "import bs4\n",
    "from urllib.request import urlopen\n",
    "\n",
    "url=\"https://news.naver.com/\"\n",
    "html=urllib.request.urlopen(url)\n",
    "bsObj=bs4.BeautifulSoup(html,\"html.parser\")\n",
    "\n",
    "ul_article=bsObj.find(\"ul\", {\"class\":\"hdline_article_list\"})\n",
    "lis_article=ul_article.findAll(\"li\")\n",
    "\n",
    "\n",
    "''' 기존방법\n",
    "for li in lis_article:\n",
    "    atag=li.find(\"a\").text\n",
    "    print(atag)\n",
    "'''\n",
    "\n",
    "'''더나은방법'''\n",
    "titles=[li.find(\"a\").text for li in lis_article]\n",
    "#pint(titles)\n",
    "for i in titles : \n",
    "    i=i.replace(\"\\n                                        \", \"\") #replace : \\n 지우기!\n",
    "    print(\"오늘의 기사는 : \"+i)\n",
    "    \n",
    "\n"
   ]
  },
  {
   "cell_type": "code",
   "execution_count": 15,
   "metadata": {},
   "outputs": [
    {
     "name": "stdout",
     "output_type": "stream",
     "text": [
      "[<li>ok</li>, <li>no</li>, <li>sure</li>]\n"
     ]
    }
   ],
   "source": [
    "#findAll 연습\n",
    "\n",
    "test_html=\"\"\"\n",
    "<html>\n",
    "    <body>\n",
    "        <ul class=\"greet\">\n",
    "            <li class='first'>hello</li>\n",
    "            <li>bye</li>\n",
    "            <li>welcome</li>\n",
    "        </ul>\n",
    "        <ul >\n",
    "            <li>ok</li>\n",
    "            <li>no</li>\n",
    "            <li>sure</li>\n",
    "        </ul>\n",
    "        <ul class=\"eat\">\n",
    "            <li>breakfast</li>\n",
    "            <li>lunch</li>\n",
    "            <li>dinner</li>\n",
    "        </ul>\n",
    "    </body>\n",
    "</html>\n",
    "\"\"\"\n",
    "bsObj=bs4.BeautifulSoup(test_html, \"html.parser\")\n",
    "ul_greet= bsObj.find(\"ul\")\n",
    "lis=ul_greet.findAll(\"li\") #list 생성\n",
    "#print(lis[1].text) #list 중 원하는것 뽑기\n",
    "\n",
    "\n",
    "#두번째 ul 불러오기\n",
    "uls=bsObj.findAll(\"ul\")\n",
    "lis_in_secUl=uls[1].findAll(\"li\")\n",
    "print(uls_second)"
   ]
  }
 ],
 "metadata": {
  "kernelspec": {
   "display_name": "Python 3",
   "language": "python",
   "name": "python3"
  },
  "language_info": {
   "codemirror_mode": {
    "name": "ipython",
    "version": 3
   },
   "file_extension": ".py",
   "mimetype": "text/x-python",
   "name": "python",
   "nbconvert_exporter": "python",
   "pygments_lexer": "ipython3",
   "version": "3.7.4"
  }
 },
 "nbformat": 4,
 "nbformat_minor": 4
}
