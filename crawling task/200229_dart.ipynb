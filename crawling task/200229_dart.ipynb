{
 "cells": [
  {
   "cell_type": "code",
   "execution_count": 25,
   "metadata": {},
   "outputs": [
    {
     "data": {
      "text/plain": [
       "{'분기보고서 (2019.09)': '20191114001273',\n",
       " '반기보고서 (2019.06)': '20190814002218',\n",
       " '분기보고서 (2019.03)': '20190515001605',\n",
       " '사업보고서 (2018.12)': '20190401004781',\n",
       " '분기보고서 (2018.09)': '20181114001530'}"
      ]
     },
     "execution_count": 25,
     "metadata": {},
     "output_type": "execute_result"
    }
   ],
   "source": [
    "import requests\n",
    "import json\n",
    "import re\n",
    "\n",
    "API_key=\"b1a2652ac6ced65033696952d7e710c1afc48958\"\n",
    "\n",
    "formTypeCode=\"pblntf_detail_ty=A003&pblntf_detail_ty=A001&pblntf_detail_ty=A002\" #연간공시\n",
    "bgnDate='20181101' #시작일\n",
    "endDate='20191130' #종료일\n",
    "corpCode=\"005930\" #삼성전자\n",
    "\n",
    "url=\"https://opendart.fss.or.kr/api/list.xml?crtfc_key={ak}&corp_code={cc}&bgn_de={bd}&end_de={ed}&{f}&page_count=100\".format(ak=API_key, bd=bgnDate, ed=endDate, f=formTypeCode, cc=corpCode)\n",
    "url_result=requests.get(url).content.decode('utf-8')\n",
    "\n",
    "#Dict=json.loads(url_result)# json 사용시 쓰기\n",
    "recpt_s=re.findall(r'<rcept_no>(.*?)</rcept_no>', url_result) #정규표현식 강의(https://youtu.be/1jdG3K2WhV4) 참고\n",
    "reportNms=re.findall(r'<report_nm>(.*?)</report_nm>', url_result)\n",
    "\n",
    "coupledData=dict(zip(reportNms, recpt_s))\n",
    "\n",
    "\n",
    "coupledData"
   ]
  },
  {
   "cell_type": "code",
   "execution_count": 26,
   "metadata": {},
   "outputs": [
    {
     "data": {
      "text/plain": [
       "'6616741'"
      ]
     },
     "execution_count": 26,
     "metadata": {},
     "output_type": "execute_result"
    }
   ],
   "source": [
    "#click: function() {viewDoc('20190814002218', '6846651', '12', '593272', '21548', 'dart3.xsd');}\n",
    "def get_dcmNo(rcpNo):\n",
    "    urlReport=\"http://dart.fss.or.kr/dsaf001/main.do?rcpNo=\"+rcpNo\n",
    "    urlReport_result=requests.get(urlReport).content.decode(\"UTF-8\")\n",
    "    function_s=re.findall(r'viewDoc(.*?);',urlReport_result)\n",
    "    ingradients=re.split(\"[']\", function_s[0])\n",
    "    return ingradients[3]\n",
    "\n",
    "def get_dcmList(reportNms, recpt_s):\n",
    "    for rN in recpt_s:\n",
    "        dN=get_dcmNo(rN)\n",
    "    \n",
    "\n",
    "get_dcmNo(\"20190814002218\")\n",
    "get_dcmNo(\"20190401004781\")"
   ]
  },
  {
   "cell_type": "code",
   "execution_count": 36,
   "metadata": {},
   "outputs": [
    {
     "name": "stdout",
     "output_type": "stream",
     "text": [
      "{'하나': 'one', '둘': 'twe'}\n",
      "하나\n",
      "둘\n"
     ]
    },
    {
     "ename": "KeyError",
     "evalue": "'오'",
     "output_type": "error",
     "traceback": [
      "\u001b[0;31m---------------------------------------------------------------------------\u001b[0m",
      "\u001b[0;31mKeyError\u001b[0m                                  Traceback (most recent call last)",
      "\u001b[0;32m<ipython-input-36-d89f3784be4d>\u001b[0m in \u001b[0;36m<module>\u001b[0;34m\u001b[0m\n\u001b[1;32m      6\u001b[0m \u001b[0;34m\u001b[0m\u001b[0m\n\u001b[1;32m      7\u001b[0m \u001b[0mtestDic\u001b[0m\u001b[0;34m[\u001b[0m\u001b[0;34m\"셋\"\u001b[0m\u001b[0;34m]\u001b[0m\u001b[0;34m=\u001b[0m\u001b[0;34m\"three\"\u001b[0m\u001b[0;34m\u001b[0m\u001b[0;34m\u001b[0m\u001b[0m\n\u001b[0;32m----> 8\u001b[0;31m \u001b[0mprint\u001b[0m\u001b[0;34m(\u001b[0m\u001b[0mtestDic\u001b[0m\u001b[0;34m[\u001b[0m\u001b[0;34m'오'\u001b[0m\u001b[0;34m]\u001b[0m\u001b[0;34m)\u001b[0m\u001b[0;34m\u001b[0m\u001b[0;34m\u001b[0m\u001b[0m\n\u001b[0m",
      "\u001b[0;31mKeyError\u001b[0m: '오'"
     ]
    }
   ],
   "source": [
    "testDic=dict(zip([\"하나\",\"둘\"],['one','twe'])) #참고\n",
    "print(testDic)\n",
    "\n",
    "for i in testDic:\n",
    "    print(i)\n",
    "\n",
    "testDic[\"셋\"]=\"three\"\n",
    "print(testDic)"
   ]
  },
  {
   "cell_type": "code",
   "execution_count": 28,
   "metadata": {},
   "outputs": [
    {
     "data": {
      "text/plain": [
       "['2019.3', '2019.2', '2019.1', '2018.4', '2018.3', 'error_방기보고서']"
      ]
     },
     "execution_count": 28,
     "metadata": {},
     "output_type": "execute_result"
    }
   ],
   "source": [
    "reportNms=['분기보고서 (2019.09)',\n",
    " '반기보고서 (2019.06)',\n",
    " '분기보고서 (2019.03)',\n",
    " '사업보고서 (2018.12)',\n",
    " '분기보고서 (2018.09)', \"방기보고서\"] #에러테스트용\n",
    "\n",
    "#리스트 불러오기\n",
    "\n",
    "# 19반기보고서 ->2019.1,  19사업->2019.4\n",
    "def rNameEditor():\n",
    "    for i in range(0,len(reportNms)):\n",
    "        rNm=reportNms[i]\n",
    "        report_year = str(rNm[7:11])\n",
    "        #print(rNm[13])\n",
    "        \n",
    "        if rNm[0:2] == '분기': \n",
    "            if int(rNm[13]) in range(0,6):reportNms[i]=report_year+\".1\"\n",
    "            else : reportNms[i]=report_year+\".3\"\n",
    "        elif rNm[0:2] =='반기' : reportNms[i]=report_year+\".2\"\n",
    "        elif rNm[0:2] =='사업' : reportNms[i]=report_year+\".4\"\n",
    "        else : reportNms[i]=\"error_\"+reportNms[i]\n",
    "    return reportNms\n",
    "\n",
    "rNameEditor()"
   ]
  },
  {
   "cell_type": "code",
   "execution_count": 35,
   "metadata": {},
   "outputs": [
    {
     "data": {
      "text/plain": [
       "137"
      ]
     },
     "execution_count": 35,
     "metadata": {},
     "output_type": "execute_result"
    }
   ],
   "source": [
    "molaData= { '바나나' :{'하나': 'one', '둘': 'twe', '셋': 'three'}, '팬더' :{'둘': 'one', '둘': 'twe', '셋': 'three'}}\n",
    "\n",
    "file=open(\"./molamola.json\",\"w+\")\n",
    "file.write(json.dumps(molaData))\n"
   ]
  },
  {
   "cell_type": "code",
   "execution_count": null,
   "metadata": {},
   "outputs": [],
   "source": []
  }
 ],
 "metadata": {
  "kernelspec": {
   "display_name": "Python 3",
   "language": "python",
   "name": "python3"
  },
  "language_info": {
   "codemirror_mode": {
    "name": "ipython",
    "version": 3
   },
   "file_extension": ".py",
   "mimetype": "text/x-python",
   "name": "python",
   "nbconvert_exporter": "python",
   "pygments_lexer": "ipython3",
   "version": "3.7.4"
  }
 },
 "nbformat": 4,
 "nbformat_minor": 4
}
