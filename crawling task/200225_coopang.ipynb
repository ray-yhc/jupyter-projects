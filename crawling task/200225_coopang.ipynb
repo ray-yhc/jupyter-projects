{
 "cells": [
  {
   "cell_type": "code",
   "execution_count": 11,
   "metadata": {},
   "outputs": [
    {
     "data": {
      "text/plain": [
       "'\\n채소\\nhttps://www.coupang.com/np/categories/203073\\nhttps://www.coupang.com/np/categories/203073?page=2\\n\\n노트북\\nhttps://www.coupang.com/np/categories/414501\\nhttps://www.coupang.com/np/categories/414501?page=4\\n\\n맥\\nhttps://www.coupang.com/np/promotion/20306\\n'"
      ]
     },
     "execution_count": 11,
     "metadata": {},
     "output_type": "execute_result"
    }
   ],
   "source": [
    "\"\"\"\n",
    "채소\n",
    "https://www.coupang.com/np/categories/203073\n",
    "https://www.coupang.com/np/categories/203073?page=2\n",
    "\n",
    "노트북\n",
    "https://www.coupang.com/np/categories/414501\n",
    "https://www.coupang.com/np/categories/414501?page=4\n",
    "\n",
    "맥\n",
    "https://www.coupang.com/np/promotion/20306\n",
    "\"\"\"\n"
   ]
  },
  {
   "cell_type": "code",
   "execution_count": null,
   "metadata": {},
   "outputs": [],
   "source": [
    "import requests\n",
    "from bs4 import BeautifulSoup\n",
    "\n",
    "def get_bs(url) :\n",
    "    data=requests.get(url)\n",
    "    bsObj=BeautifulSoup(data.text,\"html.parser\")\n",
    "    return bsObj\n",
    "\n",
    "url_1=\"https://www.naver.com\"\n",
    "print(\"작동\")\n",
    "print(get_bs(url_1))\n",
    "#여기부터할차례!!\n",
    "#보류..!!"
   ]
  },
  {
   "cell_type": "code",
   "execution_count": null,
   "metadata": {},
   "outputs": [],
   "source": []
  },
  {
   "cell_type": "code",
   "execution_count": null,
   "metadata": {},
   "outputs": [],
   "source": []
  }
 ],
 "metadata": {
  "kernelspec": {
   "display_name": "Python 3",
   "language": "python",
   "name": "python3"
  },
  "language_info": {
   "codemirror_mode": {
    "name": "ipython",
    "version": 3
   },
   "file_extension": ".py",
   "mimetype": "text/x-python",
   "name": "python",
   "nbconvert_exporter": "python",
   "pygments_lexer": "ipython3",
   "version": "3.7.4"
  }
 },
 "nbformat": 4,
 "nbformat_minor": 4
}
