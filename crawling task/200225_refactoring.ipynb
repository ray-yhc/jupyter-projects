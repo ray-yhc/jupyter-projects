{
 "cells": [
  {
   "cell_type": "code",
   "execution_count": 20,
   "metadata": {},
   "outputs": [
    {
     "name": "stdout",
     "output_type": "stream",
     "text": [
      "57,900\n"
     ]
    }
   ],
   "source": [
    "#refactoring : 반복되는 작업은 함수로 묶어주자\n",
    "import requests\n",
    "from bs4 import BeautifulSoup\n",
    "\n",
    "#url 넣어서 bsObj return하는 함수\n",
    "def get_bsObj(url) :\n",
    "    result=requests.get(url)\n",
    "    bsObj=BeautifulSoup(result.content, \"html.parser\")\n",
    "    return bsObj\n",
    "\n",
    "url=\"https://finance.naver.com/item/main.nhn?code=005930\"\n",
    "bsObj= get_bsObj(url)\n",
    "\n",
    "noToday=bsObj.find(\"p\", {\"class\":\"no_today\"}).find(\"span\",{\"class\":\"blind\"})\n",
    "\n",
    "\n",
    "print(noToday.text)"
   ]
  },
  {
   "cell_type": "code",
   "execution_count": 23,
   "metadata": {},
   "outputs": [
    {
     "name": "stdout",
     "output_type": "stream",
     "text": [
      "190,500\n"
     ]
    }
   ],
   "source": [
    "# company_code를 받아 price return\n",
    "def getPrice(company_code) :\n",
    "    url=\"https://finance.naver.com/item/main.nhn?code=\"+company_code\n",
    "    bsObj=get_bsObj(url)\n",
    "    price=bsObj.find(\"p\", {\"class\":\"no_today\"}).find(\"span\",{\"class\":\"blind\"})\n",
    "    return price.text\n",
    "\n",
    "price_Samsung=getPrice(\"005930\")\n",
    "price_Naver=getPrice(\"035420\")\n",
    "print(price_Naver)\n",
    "    "
   ]
  }
 ],
 "metadata": {
  "kernelspec": {
   "display_name": "Python 3",
   "language": "python",
   "name": "python3"
  },
  "language_info": {
   "codemirror_mode": {
    "name": "ipython",
    "version": 3
   },
   "file_extension": ".py",
   "mimetype": "text/x-python",
   "name": "python",
   "nbconvert_exporter": "python",
   "pygments_lexer": "ipython3",
   "version": "3.7.4"
  }
 },
 "nbformat": 4,
 "nbformat_minor": 4
}
