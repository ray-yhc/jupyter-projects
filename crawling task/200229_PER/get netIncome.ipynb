{
 "cells": [
  {
   "cell_type": "code",
   "execution_count": 1,
   "metadata": {},
   "outputs": [
    {
     "name": "stdout",
     "output_type": "stream",
     "text": [
      "importing Jupyter notebook from lib_crawlInfo.ipynb\n",
      "url_list: https://opendart.fss.or.kr/api/list.xml?crtfc_key=b1a2652ac6ced65033696952d7e710c1afc48958&corp_code=005930&bgn_de=20121101&end_de=20201130&pblntf_detail_ty=A003&pblntf_detail_ty=A001&pblntf_detail_ty=A002&page_count=100\n",
      "http://dart.fss.or.kr/report/viewer.do?rcpNo=20121114000975&dcmNo=3560249&eleId=7&offset=572847&length=21503&dtd=dart3.xsd\n",
      "http://dart.fss.or.kr/report/viewer.do?rcpNo=20130401003031&dcmNo=3714646&eleId=7&offset=572847&length=21503&dtd=dart3.xsd\n",
      "http://dart.fss.or.kr/report/viewer.do?rcpNo=20130515000677&dcmNo=3803552&eleId=7&offset=572847&length=21503&dtd=dart3.xsd\n",
      "http://dart.fss.or.kr/report/viewer.do?rcpNo=20130814000618&dcmNo=3875930&eleId=7&offset=572847&length=21503&dtd=dart3.xsd\n",
      "http://dart.fss.or.kr/report/viewer.do?rcpNo=20131114000520&dcmNo=3952512&eleId=7&offset=572847&length=21503&dtd=dart3.xsd\n",
      "http://dart.fss.or.kr/report/viewer.do?rcpNo=20140331002427&dcmNo=4114631&eleId=7&offset=572847&length=21503&dtd=dart3.xsd\n",
      "http://dart.fss.or.kr/report/viewer.do?rcpNo=20140515001057&dcmNo=4215971&eleId=7&offset=572847&length=21503&dtd=dart3.xsd\n",
      "http://dart.fss.or.kr/report/viewer.do?rcpNo=20140814000743&dcmNo=4299541&eleId=7&offset=572847&length=21503&dtd=dart3.xsd\n",
      "http://dart.fss.or.kr/report/viewer.do?rcpNo=20141114000755&dcmNo=4384460&eleId=7&offset=572847&length=21503&dtd=dart3.xsd\n",
      "http://dart.fss.or.kr/report/viewer.do?rcpNo=20150331002915&dcmNo=4556583&eleId=7&offset=572847&length=21503&dtd=dart3.xsd\n",
      "http://dart.fss.or.kr/report/viewer.do?rcpNo=20150515001379&dcmNo=4669876&eleId=7&offset=572847&length=21503&dtd=dart3.xsd\n",
      "http://dart.fss.or.kr/report/viewer.do?rcpNo=20150817000859&dcmNo=4770098&eleId=7&offset=572847&length=21503&dtd=dart3.xsd\n",
      "http://dart.fss.or.kr/report/viewer.do?rcpNo=20151116000976&dcmNo=4854164&eleId=7&offset=572847&length=21503&dtd=dart3.xsd\n",
      "http://dart.fss.or.kr/report/viewer.do?rcpNo=20160330003536&dcmNo=5026126&eleId=7&offset=572847&length=21503&dtd=dart3.xsd\n",
      "http://dart.fss.or.kr/report/viewer.do?rcpNo=20160516003174&dcmNo=5146351&eleId=7&offset=572847&length=21503&dtd=dart3.xsd\n",
      "http://dart.fss.or.kr/report/viewer.do?rcpNo=20160816001779&dcmNo=5261457&eleId=7&offset=572847&length=21503&dtd=dart3.xsd\n",
      "http://dart.fss.or.kr/report/viewer.do?rcpNo=20161114001491&dcmNo=5349987&eleId=7&offset=572847&length=21503&dtd=dart3.xsd\n",
      "http://dart.fss.or.kr/report/viewer.do?rcpNo=20170331004518&dcmNo=5540271&eleId=7&offset=572847&length=21503&dtd=dart3.xsd\n",
      "http://dart.fss.or.kr/report/viewer.do?rcpNo=20170515003806&dcmNo=5653406&eleId=7&offset=572847&length=21503&dtd=dart3.xsd\n",
      "http://dart.fss.or.kr/report/viewer.do?rcpNo=20170814001832&dcmNo=5752868&eleId=7&offset=572847&length=21503&dtd=dart3.xsd\n",
      "http://dart.fss.or.kr/report/viewer.do?rcpNo=20171114001694&dcmNo=5845320&eleId=7&offset=572847&length=21503&dtd=dart3.xsd\n",
      "http://dart.fss.or.kr/report/viewer.do?rcpNo=20180402005019&dcmNo=6060273&eleId=7&offset=572847&length=21503&dtd=dart3.xsd\n",
      "http://dart.fss.or.kr/report/viewer.do?rcpNo=20180515001699&dcmNo=6180129&eleId=7&offset=572847&length=21503&dtd=dart3.xsd\n",
      "http://dart.fss.or.kr/report/viewer.do?rcpNo=20180814001113&dcmNo=6282263&eleId=7&offset=572847&length=21503&dtd=dart3.xsd\n",
      "http://dart.fss.or.kr/report/viewer.do?rcpNo=20181114001530&dcmNo=6382016&eleId=7&offset=572847&length=21503&dtd=dart3.xsd\n",
      "http://dart.fss.or.kr/report/viewer.do?rcpNo=20190401004781&dcmNo=6616741&eleId=7&offset=572847&length=21503&dtd=dart3.xsd\n",
      "http://dart.fss.or.kr/report/viewer.do?rcpNo=20190515001605&dcmNo=6738798&eleId=7&offset=572847&length=21503&dtd=dart3.xsd\n",
      "http://dart.fss.or.kr/report/viewer.do?rcpNo=20190814002218&dcmNo=6846651&eleId=7&offset=572847&length=21503&dtd=dart3.xsd\n",
      "http://dart.fss.or.kr/report/viewer.do?rcpNo=20191114001273&dcmNo=6958001&eleId=7&offset=572847&length=21503&dtd=dart3.xsd\n",
      "{'2012.3': {' Ⅳ. 발행주식의 총수 (Ⅱ-Ⅲ)': '147,299,337'}, '2012.4': {' Ⅳ. 발행주식의 총수 (Ⅱ-Ⅲ)': '147,299,337'}, '2013.1': {' Ⅳ. 발행주식의 총수 (Ⅱ-Ⅲ)': '147,299,337'}, '2013.2': {' Ⅳ. 발행주식의 총수 (Ⅱ-Ⅲ)': '147,299,337'}, '2013.3': {' Ⅳ. 발행주식의 총수 (Ⅱ-Ⅲ)': '147,299,337'}, '2013.4': {' Ⅳ. 발행주식의 총수 (Ⅱ-Ⅲ)': '147,299,337'}, '2014.1': {' Ⅳ. 발행주식의 총수 (Ⅱ-Ⅲ)': '147,299,337'}, '2014.2': {' Ⅳ. 발행주식의 총수 (Ⅱ-Ⅲ)': '147,299,337'}, '2014.3': {' Ⅳ. 발행주식의 총수 (Ⅱ-Ⅲ)': '147,299,337'}, '2014.4': {' Ⅳ. 발행주식의 총수 (Ⅱ-Ⅲ)': '147,299,337'}, '2015.1': {' Ⅳ. 발행주식의 총수 (Ⅱ-Ⅲ)': '147,299,337'}, '2015.2': {' Ⅳ. 발행주식의 총수 (Ⅱ-Ⅲ)': '147,299,337'}, '2015.3': {' Ⅳ. 발행주식의 총수 (Ⅱ-Ⅲ)': '147,299,337'}, '2015.4': {' Ⅳ. 발행주식의 총수 (Ⅱ-Ⅲ)': '147,299,337'}, '2016.1': {' Ⅳ. 발행주식의 총수 (Ⅱ-Ⅲ)': '145,069,337'}, '2016.2': {' Ⅳ. 발행주식의 총수 (Ⅱ-Ⅲ)': '142,969,337'}, '2016.3': {' Ⅳ. 발행주식의 총수 (Ⅱ-Ⅲ)': '140,679,337'}, '2016.4': {' Ⅳ. 발행주식의 총수 (Ⅱ-Ⅲ)': '140,679,337'}, '2017.1': {' Ⅳ. 발행주식의 총수 (Ⅱ-Ⅲ)': '140,679,337'}, '2017.2': {' Ⅳ. 발행주식의 총수 (Ⅱ-Ⅲ)': '130,668,494'}, '2017.3': {' Ⅳ. 발행주식의 총수 (Ⅱ-Ⅲ)': '129,768,494'}, '2017.4': {' Ⅳ. 발행주식의 총수 (Ⅱ-Ⅲ)': '129,098,494'}, '2018.1': {' Ⅳ. 발행주식의 총수 (Ⅱ-Ⅲ)': '128,386,494'}, '2018.2': {' Ⅳ. 발행주식의 총수 (Ⅱ-Ⅲ)': '6,419,324,700'}, '2018.3': {' Ⅳ. 발행주식의 총수 (Ⅱ-Ⅲ)': '6,419,324,700'}, '2018.4': {' Ⅳ. 발행주식의 총수 (Ⅱ-Ⅲ)': '5,969,782,550'}, '2019.1': {' Ⅳ. 발행주식의 총수 (Ⅱ-Ⅲ)': '5,969,782,550'}, '2019.2': {'\\xa0Ⅳ. 발행주식의 총수 (Ⅱ-Ⅲ)': '5,969,782,550'}, '2019.3': {'\\xa0Ⅳ. 발행주식의 총수 (Ⅱ-Ⅲ)': '5,969,782,550'}}\n",
      "url_list: https://opendart.fss.or.kr/api/list.xml?crtfc_key=b1a2652ac6ced65033696952d7e710c1afc48958&corp_code=005930&bgn_de=20121101&end_de=20201130&pblntf_detail_ty=A003&pblntf_detail_ty=A001&pblntf_detail_ty=A002&page_count=100\n",
      "{'2014.4': {'연결총당기순이익': '23,394,358'}, '2015.1': {'연결총당기순이익': '4,625,815'}, '2015.2': {'연결총당기순이익': '10,378,112'}, '2015.3': {'연결총당기순이익': '15,836,671'}, '2015.4': {'연결총당기순이익': '19,060,144'}, '2016.1': {'연결총당기순이익': '5,252,803'}, '2016.2': {'연결총당기순이익': '11,100,196'}, '2016.3': {'연결총당기순이익': '15,638,051'}, '2016.4': {'연결총당기순이익': '22,726,092'}, '2017.1': {'연결총당기순이익': '7,684,354'}, '2017.2': {'연결총당기순이익': '18,738,205'}, '2017.3': {'연결총당기순이익': '29,931,616'}, '2017.4': {'영업이익': '53,645,038'}, '2018.1': {'연결총당기순이익': '11,688,544'}, '2018.2': {'연결총당기순이익': '22,731,956'}, '2018.3': {'연결총당기순이익': '35,882,671'}, '2018.4': {'연결총당기순이익': '44,344,857'}, '2019.1': {'연결총당기순이익': '5,043,585'}, '2019.2': {'연결총당기순이익': '10,224,161'}, '2019.3': {'연결총당기순이익': '16,511,825'}}\n",
      "\n",
      "    eleId \n",
      "    12:요약연결재무제표, \n",
      "    7:주식의 총수 등\n",
      "    \n",
      "url_list: https://opendart.fss.or.kr/api/list.xml?crtfc_key=b1a2652ac6ced65033696952d7e710c1afc48958&corp_code=005930&bgn_de=20121101&end_de=20201130&pblntf_detail_ty=A003&pblntf_detail_ty=A001&pblntf_detail_ty=A002&page_count=100\n"
     ]
    },
    {
     "data": {
      "text/plain": [
       "{'2019.3': 'http://dart.fss.or.kr/report/viewer.do?rcpNo=20191114001273&dcmNo=20191114001273&eleId=7&offset=572847&length=21503&dtd=dart3.xsd',\n",
       " '2019.2': 'http://dart.fss.or.kr/report/viewer.do?rcpNo=20190814002218&dcmNo=20190814002218&eleId=7&offset=572847&length=21503&dtd=dart3.xsd',\n",
       " '2019.1': 'http://dart.fss.or.kr/report/viewer.do?rcpNo=20190515001605&dcmNo=20190515001605&eleId=7&offset=572847&length=21503&dtd=dart3.xsd',\n",
       " '2018.4': 'http://dart.fss.or.kr/report/viewer.do?rcpNo=20190401004781&dcmNo=20190401004781&eleId=7&offset=572847&length=21503&dtd=dart3.xsd',\n",
       " '2018.3': 'http://dart.fss.or.kr/report/viewer.do?rcpNo=20181114001530&dcmNo=20181114001530&eleId=7&offset=572847&length=21503&dtd=dart3.xsd',\n",
       " '2018.2': 'http://dart.fss.or.kr/report/viewer.do?rcpNo=20180814001113&dcmNo=20180814001113&eleId=7&offset=572847&length=21503&dtd=dart3.xsd',\n",
       " '2018.1': 'http://dart.fss.or.kr/report/viewer.do?rcpNo=20180515001699&dcmNo=20180515001699&eleId=7&offset=572847&length=21503&dtd=dart3.xsd',\n",
       " '2017.4': 'http://dart.fss.or.kr/report/viewer.do?rcpNo=20180402005019&dcmNo=20180402005019&eleId=7&offset=572847&length=21503&dtd=dart3.xsd',\n",
       " '2017.3': 'http://dart.fss.or.kr/report/viewer.do?rcpNo=20171114001694&dcmNo=20171114001694&eleId=7&offset=572847&length=21503&dtd=dart3.xsd',\n",
       " '2017.2': 'http://dart.fss.or.kr/report/viewer.do?rcpNo=20170814001832&dcmNo=20170814001832&eleId=7&offset=572847&length=21503&dtd=dart3.xsd',\n",
       " '2017.1': 'http://dart.fss.or.kr/report/viewer.do?rcpNo=20170515003806&dcmNo=20170515003806&eleId=7&offset=572847&length=21503&dtd=dart3.xsd',\n",
       " '2016.4': 'http://dart.fss.or.kr/report/viewer.do?rcpNo=20170331004518&dcmNo=20170331004518&eleId=7&offset=572847&length=21503&dtd=dart3.xsd',\n",
       " '2016.3': 'http://dart.fss.or.kr/report/viewer.do?rcpNo=20161114001491&dcmNo=20161114001491&eleId=7&offset=572847&length=21503&dtd=dart3.xsd',\n",
       " '2016.2': 'http://dart.fss.or.kr/report/viewer.do?rcpNo=20160816001779&dcmNo=20160816001779&eleId=7&offset=572847&length=21503&dtd=dart3.xsd',\n",
       " '2016.1': 'http://dart.fss.or.kr/report/viewer.do?rcpNo=20160516003174&dcmNo=20160516003174&eleId=7&offset=572847&length=21503&dtd=dart3.xsd',\n",
       " '2015.4': 'http://dart.fss.or.kr/report/viewer.do?rcpNo=20160330003536&dcmNo=20160330003536&eleId=7&offset=572847&length=21503&dtd=dart3.xsd',\n",
       " '2015.3': 'http://dart.fss.or.kr/report/viewer.do?rcpNo=20151116000976&dcmNo=20151116000976&eleId=7&offset=572847&length=21503&dtd=dart3.xsd',\n",
       " '2015.2': 'http://dart.fss.or.kr/report/viewer.do?rcpNo=20150817000859&dcmNo=20150817000859&eleId=7&offset=572847&length=21503&dtd=dart3.xsd',\n",
       " '2015.1': 'http://dart.fss.or.kr/report/viewer.do?rcpNo=20150515001379&dcmNo=20150515001379&eleId=7&offset=572847&length=21503&dtd=dart3.xsd',\n",
       " '2014.4': 'http://dart.fss.or.kr/report/viewer.do?rcpNo=20150331002915&dcmNo=20150331002915&eleId=7&offset=572847&length=21503&dtd=dart3.xsd',\n",
       " '2014.3': 'http://dart.fss.or.kr/report/viewer.do?rcpNo=20141114000755&dcmNo=20141114000755&eleId=7&offset=572847&length=21503&dtd=dart3.xsd',\n",
       " '2014.2': 'http://dart.fss.or.kr/report/viewer.do?rcpNo=20140814000743&dcmNo=20140814000743&eleId=7&offset=572847&length=21503&dtd=dart3.xsd',\n",
       " '2014.1': 'http://dart.fss.or.kr/report/viewer.do?rcpNo=20140515001057&dcmNo=20140515001057&eleId=7&offset=572847&length=21503&dtd=dart3.xsd',\n",
       " '2013.4': 'http://dart.fss.or.kr/report/viewer.do?rcpNo=20140331002427&dcmNo=20140331002427&eleId=7&offset=572847&length=21503&dtd=dart3.xsd',\n",
       " '2013.3': 'http://dart.fss.or.kr/report/viewer.do?rcpNo=20131114000520&dcmNo=20131114000520&eleId=7&offset=572847&length=21503&dtd=dart3.xsd',\n",
       " '2013.2': 'http://dart.fss.or.kr/report/viewer.do?rcpNo=20130814000618&dcmNo=20130814000618&eleId=7&offset=572847&length=21503&dtd=dart3.xsd',\n",
       " '2013.1': 'http://dart.fss.or.kr/report/viewer.do?rcpNo=20130515000677&dcmNo=20130515000677&eleId=7&offset=572847&length=21503&dtd=dart3.xsd',\n",
       " '2012.4': 'http://dart.fss.or.kr/report/viewer.do?rcpNo=20130401003031&dcmNo=20130401003031&eleId=7&offset=572847&length=21503&dtd=dart3.xsd',\n",
       " '2012.3': 'http://dart.fss.or.kr/report/viewer.do?rcpNo=20121114000975&dcmNo=20121114000975&eleId=7&offset=572847&length=21503&dtd=dart3.xsd'}"
      ]
     },
     "execution_count": 1,
     "metadata": {},
     "output_type": "execute_result"
    }
   ],
   "source": [
    "import import_ipynb\n",
    "import lib_crawlInfo\n",
    "\n",
    "code='005930'\n",
    "\n",
    "lib_crawlInfo.make_NIChart(code)\n",
    "lib_crawlInfo.print_url_page(code,'7')\n",
    "#jsonFile : NetIncomeChart_005930.json"
   ]
  },
  {
   "cell_type": "code",
   "execution_count": null,
   "metadata": {},
   "outputs": [],
   "source": [
    "\n"
   ]
  },
  {
   "cell_type": "code",
   "execution_count": null,
   "metadata": {},
   "outputs": [],
   "source": []
  },
  {
   "cell_type": "code",
   "execution_count": null,
   "metadata": {},
   "outputs": [],
   "source": []
  },
  {
   "cell_type": "code",
   "execution_count": null,
   "metadata": {},
   "outputs": [],
   "source": []
  },
  {
   "cell_type": "code",
   "execution_count": null,
   "metadata": {},
   "outputs": [],
   "source": []
  },
  {
   "cell_type": "code",
   "execution_count": null,
   "metadata": {},
   "outputs": [],
   "source": [
    "# http://dart.fss.or.kr/dsaf001/main.do?rcpNo=20181114001530\n",
    "당기순이익 셀 크롤링\n"
   ]
  }
 ],
 "metadata": {
  "kernelspec": {
   "display_name": "Python 3",
   "language": "python",
   "name": "python3"
  },
  "language_info": {
   "codemirror_mode": {
    "name": "ipython",
    "version": 3
   },
   "file_extension": ".py",
   "mimetype": "text/x-python",
   "name": "python",
   "nbconvert_exporter": "python",
   "pygments_lexer": "ipython3",
   "version": "3.7.4"
  }
 },
 "nbformat": 4,
 "nbformat_minor": 4
}
