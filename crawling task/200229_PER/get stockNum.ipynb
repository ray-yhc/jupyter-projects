{
 "cells": [
  {
   "cell_type": "code",
   "execution_count": 1,
   "metadata": {},
   "outputs": [
    {
     "name": "stdout",
     "output_type": "stream",
     "text": [
      "importing Jupyter notebook from lib_crawlInfo.ipynb\n",
      "url_list: https://opendart.fss.or.kr/api/list.xml?crtfc_key=b1a2652ac6ced65033696952d7e710c1afc48958&corp_code=005930&bgn_de=20121101&end_de=20201130&pblntf_detail_ty=A003&pblntf_detail_ty=A001&pblntf_detail_ty=A002&page_count=100\n",
      "http://dart.fss.or.kr/report/viewer.do?rcpNo=20121114000975&dcmNo=3560249&eleId=7&offset=572847&length=21503&dtd=dart3.xsd\n",
      "http://dart.fss.or.kr/report/viewer.do?rcpNo=20130401003031&dcmNo=3714646&eleId=7&offset=572847&length=21503&dtd=dart3.xsd\n",
      "http://dart.fss.or.kr/report/viewer.do?rcpNo=20130515000677&dcmNo=3803552&eleId=7&offset=572847&length=21503&dtd=dart3.xsd\n",
      "http://dart.fss.or.kr/report/viewer.do?rcpNo=20130814000618&dcmNo=3875930&eleId=7&offset=572847&length=21503&dtd=dart3.xsd\n",
      "http://dart.fss.or.kr/report/viewer.do?rcpNo=20131114000520&dcmNo=3952512&eleId=7&offset=572847&length=21503&dtd=dart3.xsd\n",
      "http://dart.fss.or.kr/report/viewer.do?rcpNo=20140331002427&dcmNo=4114631&eleId=7&offset=572847&length=21503&dtd=dart3.xsd\n",
      "http://dart.fss.or.kr/report/viewer.do?rcpNo=20140515001057&dcmNo=4215971&eleId=7&offset=572847&length=21503&dtd=dart3.xsd\n",
      "http://dart.fss.or.kr/report/viewer.do?rcpNo=20140814000743&dcmNo=4299541&eleId=7&offset=572847&length=21503&dtd=dart3.xsd\n",
      "http://dart.fss.or.kr/report/viewer.do?rcpNo=20141114000755&dcmNo=4384460&eleId=7&offset=572847&length=21503&dtd=dart3.xsd\n",
      "http://dart.fss.or.kr/report/viewer.do?rcpNo=20150331002915&dcmNo=4556583&eleId=7&offset=572847&length=21503&dtd=dart3.xsd\n",
      "http://dart.fss.or.kr/report/viewer.do?rcpNo=20150515001379&dcmNo=4669876&eleId=7&offset=572847&length=21503&dtd=dart3.xsd\n",
      "http://dart.fss.or.kr/report/viewer.do?rcpNo=20150817000859&dcmNo=4770098&eleId=7&offset=572847&length=21503&dtd=dart3.xsd\n",
      "http://dart.fss.or.kr/report/viewer.do?rcpNo=20151116000976&dcmNo=4854164&eleId=7&offset=572847&length=21503&dtd=dart3.xsd\n",
      "http://dart.fss.or.kr/report/viewer.do?rcpNo=20160330003536&dcmNo=5026126&eleId=7&offset=572847&length=21503&dtd=dart3.xsd\n",
      "http://dart.fss.or.kr/report/viewer.do?rcpNo=20160516003174&dcmNo=5146351&eleId=7&offset=572847&length=21503&dtd=dart3.xsd\n",
      "http://dart.fss.or.kr/report/viewer.do?rcpNo=20160816001779&dcmNo=5261457&eleId=7&offset=572847&length=21503&dtd=dart3.xsd\n",
      "http://dart.fss.or.kr/report/viewer.do?rcpNo=20161114001491&dcmNo=5349987&eleId=7&offset=572847&length=21503&dtd=dart3.xsd\n",
      "http://dart.fss.or.kr/report/viewer.do?rcpNo=20170331004518&dcmNo=5540271&eleId=7&offset=572847&length=21503&dtd=dart3.xsd\n",
      "http://dart.fss.or.kr/report/viewer.do?rcpNo=20170515003806&dcmNo=5653406&eleId=7&offset=572847&length=21503&dtd=dart3.xsd\n",
      "http://dart.fss.or.kr/report/viewer.do?rcpNo=20170814001832&dcmNo=5752868&eleId=7&offset=572847&length=21503&dtd=dart3.xsd\n",
      "http://dart.fss.or.kr/report/viewer.do?rcpNo=20171114001694&dcmNo=5845320&eleId=7&offset=572847&length=21503&dtd=dart3.xsd\n",
      "http://dart.fss.or.kr/report/viewer.do?rcpNo=20180402005019&dcmNo=6060273&eleId=7&offset=572847&length=21503&dtd=dart3.xsd\n",
      "http://dart.fss.or.kr/report/viewer.do?rcpNo=20180515001699&dcmNo=6180129&eleId=7&offset=572847&length=21503&dtd=dart3.xsd\n",
      "http://dart.fss.or.kr/report/viewer.do?rcpNo=20180814001113&dcmNo=6282263&eleId=7&offset=572847&length=21503&dtd=dart3.xsd\n",
      "http://dart.fss.or.kr/report/viewer.do?rcpNo=20181114001530&dcmNo=6382016&eleId=7&offset=572847&length=21503&dtd=dart3.xsd\n",
      "http://dart.fss.or.kr/report/viewer.do?rcpNo=20190401004781&dcmNo=6616741&eleId=7&offset=572847&length=21503&dtd=dart3.xsd\n",
      "http://dart.fss.or.kr/report/viewer.do?rcpNo=20190515001605&dcmNo=6738798&eleId=7&offset=572847&length=21503&dtd=dart3.xsd\n",
      "http://dart.fss.or.kr/report/viewer.do?rcpNo=20190814002218&dcmNo=6846651&eleId=7&offset=572847&length=21503&dtd=dart3.xsd\n",
      "http://dart.fss.or.kr/report/viewer.do?rcpNo=20191114001273&dcmNo=6958001&eleId=7&offset=572847&length=21503&dtd=dart3.xsd\n",
      "{'2012.3': {' Ⅳ. 발행주식의 총수 (Ⅱ-Ⅲ)': '147,299,337'}, '2012.4': {' Ⅳ. 발행주식의 총수 (Ⅱ-Ⅲ)': '147,299,337'}, '2013.1': {' Ⅳ. 발행주식의 총수 (Ⅱ-Ⅲ)': '147,299,337'}, '2013.2': {' Ⅳ. 발행주식의 총수 (Ⅱ-Ⅲ)': '147,299,337'}, '2013.3': {' Ⅳ. 발행주식의 총수 (Ⅱ-Ⅲ)': '147,299,337'}, '2013.4': {' Ⅳ. 발행주식의 총수 (Ⅱ-Ⅲ)': '147,299,337'}, '2014.1': {' Ⅳ. 발행주식의 총수 (Ⅱ-Ⅲ)': '147,299,337'}, '2014.2': {' Ⅳ. 발행주식의 총수 (Ⅱ-Ⅲ)': '147,299,337'}, '2014.3': {' Ⅳ. 발행주식의 총수 (Ⅱ-Ⅲ)': '147,299,337'}, '2014.4': {' Ⅳ. 발행주식의 총수 (Ⅱ-Ⅲ)': '147,299,337'}, '2015.1': {' Ⅳ. 발행주식의 총수 (Ⅱ-Ⅲ)': '147,299,337'}, '2015.2': {' Ⅳ. 발행주식의 총수 (Ⅱ-Ⅲ)': '147,299,337'}, '2015.3': {' Ⅳ. 발행주식의 총수 (Ⅱ-Ⅲ)': '147,299,337'}, '2015.4': {' Ⅳ. 발행주식의 총수 (Ⅱ-Ⅲ)': '147,299,337'}, '2016.1': {' Ⅳ. 발행주식의 총수 (Ⅱ-Ⅲ)': '145,069,337'}, '2016.2': {' Ⅳ. 발행주식의 총수 (Ⅱ-Ⅲ)': '142,969,337'}, '2016.3': {' Ⅳ. 발행주식의 총수 (Ⅱ-Ⅲ)': '140,679,337'}, '2016.4': {' Ⅳ. 발행주식의 총수 (Ⅱ-Ⅲ)': '140,679,337'}, '2017.1': {' Ⅳ. 발행주식의 총수 (Ⅱ-Ⅲ)': '140,679,337'}, '2017.2': {' Ⅳ. 발행주식의 총수 (Ⅱ-Ⅲ)': '130,668,494'}, '2017.3': {' Ⅳ. 발행주식의 총수 (Ⅱ-Ⅲ)': '129,768,494'}, '2017.4': {' Ⅳ. 발행주식의 총수 (Ⅱ-Ⅲ)': '129,098,494'}, '2018.1': {' Ⅳ. 발행주식의 총수 (Ⅱ-Ⅲ)': '128,386,494'}, '2018.2': {' Ⅳ. 발행주식의 총수 (Ⅱ-Ⅲ)': '6,419,324,700'}, '2018.3': {' Ⅳ. 발행주식의 총수 (Ⅱ-Ⅲ)': '6,419,324,700'}, '2018.4': {' Ⅳ. 발행주식의 총수 (Ⅱ-Ⅲ)': '5,969,782,550'}, '2019.1': {' Ⅳ. 발행주식의 총수 (Ⅱ-Ⅲ)': '5,969,782,550'}, '2019.2': {'\\xa0Ⅳ. 발행주식의 총수 (Ⅱ-Ⅲ)': '5,969,782,550'}, '2019.3': {'\\xa0Ⅳ. 발행주식의 총수 (Ⅱ-Ⅲ)': '5,969,782,550'}}\n",
      "url_list: https://opendart.fss.or.kr/api/list.xml?crtfc_key=b1a2652ac6ced65033696952d7e710c1afc48958&corp_code=005930&bgn_de=20121101&end_de=20201130&pblntf_detail_ty=A003&pblntf_detail_ty=A001&pblntf_detail_ty=A002&page_count=100\n",
      "http://dart.fss.or.kr/report/viewer.do?rcpNo=20121114000975&dcmNo=3560249&eleId=7&offset=572847&length=21503&dtd=dart3.xsd\n",
      "http://dart.fss.or.kr/report/viewer.do?rcpNo=20130401003031&dcmNo=3714646&eleId=7&offset=572847&length=21503&dtd=dart3.xsd\n",
      "http://dart.fss.or.kr/report/viewer.do?rcpNo=20130515000677&dcmNo=3803552&eleId=7&offset=572847&length=21503&dtd=dart3.xsd\n",
      "http://dart.fss.or.kr/report/viewer.do?rcpNo=20130814000618&dcmNo=3875930&eleId=7&offset=572847&length=21503&dtd=dart3.xsd\n",
      "http://dart.fss.or.kr/report/viewer.do?rcpNo=20131114000520&dcmNo=3952512&eleId=7&offset=572847&length=21503&dtd=dart3.xsd\n",
      "http://dart.fss.or.kr/report/viewer.do?rcpNo=20140331002427&dcmNo=4114631&eleId=7&offset=572847&length=21503&dtd=dart3.xsd\n",
      "http://dart.fss.or.kr/report/viewer.do?rcpNo=20140515001057&dcmNo=4215971&eleId=7&offset=572847&length=21503&dtd=dart3.xsd\n",
      "http://dart.fss.or.kr/report/viewer.do?rcpNo=20140814000743&dcmNo=4299541&eleId=7&offset=572847&length=21503&dtd=dart3.xsd\n",
      "http://dart.fss.or.kr/report/viewer.do?rcpNo=20141114000755&dcmNo=4384460&eleId=7&offset=572847&length=21503&dtd=dart3.xsd\n",
      "http://dart.fss.or.kr/report/viewer.do?rcpNo=20150331002915&dcmNo=4556583&eleId=7&offset=572847&length=21503&dtd=dart3.xsd\n",
      "http://dart.fss.or.kr/report/viewer.do?rcpNo=20150515001379&dcmNo=4669876&eleId=7&offset=572847&length=21503&dtd=dart3.xsd\n",
      "http://dart.fss.or.kr/report/viewer.do?rcpNo=20150817000859&dcmNo=4770098&eleId=7&offset=572847&length=21503&dtd=dart3.xsd\n",
      "http://dart.fss.or.kr/report/viewer.do?rcpNo=20151116000976&dcmNo=4854164&eleId=7&offset=572847&length=21503&dtd=dart3.xsd\n",
      "http://dart.fss.or.kr/report/viewer.do?rcpNo=20160330003536&dcmNo=5026126&eleId=7&offset=572847&length=21503&dtd=dart3.xsd\n",
      "http://dart.fss.or.kr/report/viewer.do?rcpNo=20160516003174&dcmNo=5146351&eleId=7&offset=572847&length=21503&dtd=dart3.xsd\n",
      "http://dart.fss.or.kr/report/viewer.do?rcpNo=20160816001779&dcmNo=5261457&eleId=7&offset=572847&length=21503&dtd=dart3.xsd\n",
      "http://dart.fss.or.kr/report/viewer.do?rcpNo=20161114001491&dcmNo=5349987&eleId=7&offset=572847&length=21503&dtd=dart3.xsd\n",
      "http://dart.fss.or.kr/report/viewer.do?rcpNo=20170331004518&dcmNo=5540271&eleId=7&offset=572847&length=21503&dtd=dart3.xsd\n",
      "http://dart.fss.or.kr/report/viewer.do?rcpNo=20170515003806&dcmNo=5653406&eleId=7&offset=572847&length=21503&dtd=dart3.xsd\n",
      "http://dart.fss.or.kr/report/viewer.do?rcpNo=20170814001832&dcmNo=5752868&eleId=7&offset=572847&length=21503&dtd=dart3.xsd\n",
      "http://dart.fss.or.kr/report/viewer.do?rcpNo=20171114001694&dcmNo=5845320&eleId=7&offset=572847&length=21503&dtd=dart3.xsd\n",
      "http://dart.fss.or.kr/report/viewer.do?rcpNo=20180402005019&dcmNo=6060273&eleId=7&offset=572847&length=21503&dtd=dart3.xsd\n",
      "http://dart.fss.or.kr/report/viewer.do?rcpNo=20180515001699&dcmNo=6180129&eleId=7&offset=572847&length=21503&dtd=dart3.xsd\n",
      "http://dart.fss.or.kr/report/viewer.do?rcpNo=20180814001113&dcmNo=6282263&eleId=7&offset=572847&length=21503&dtd=dart3.xsd\n",
      "http://dart.fss.or.kr/report/viewer.do?rcpNo=20181114001530&dcmNo=6382016&eleId=7&offset=572847&length=21503&dtd=dart3.xsd\n",
      "http://dart.fss.or.kr/report/viewer.do?rcpNo=20190401004781&dcmNo=6616741&eleId=7&offset=572847&length=21503&dtd=dart3.xsd\n",
      "http://dart.fss.or.kr/report/viewer.do?rcpNo=20190515001605&dcmNo=6738798&eleId=7&offset=572847&length=21503&dtd=dart3.xsd\n",
      "http://dart.fss.or.kr/report/viewer.do?rcpNo=20190814002218&dcmNo=6846651&eleId=7&offset=572847&length=21503&dtd=dart3.xsd\n",
      "http://dart.fss.or.kr/report/viewer.do?rcpNo=20191114001273&dcmNo=6958001&eleId=7&offset=572847&length=21503&dtd=dart3.xsd\n",
      "{'2012.3': {' Ⅳ. 발행주식의 총수 (Ⅱ-Ⅲ)': '147,299,337'}, '2012.4': {' Ⅳ. 발행주식의 총수 (Ⅱ-Ⅲ)': '147,299,337'}, '2013.1': {' Ⅳ. 발행주식의 총수 (Ⅱ-Ⅲ)': '147,299,337'}, '2013.2': {' Ⅳ. 발행주식의 총수 (Ⅱ-Ⅲ)': '147,299,337'}, '2013.3': {' Ⅳ. 발행주식의 총수 (Ⅱ-Ⅲ)': '147,299,337'}, '2013.4': {' Ⅳ. 발행주식의 총수 (Ⅱ-Ⅲ)': '147,299,337'}, '2014.1': {' Ⅳ. 발행주식의 총수 (Ⅱ-Ⅲ)': '147,299,337'}, '2014.2': {' Ⅳ. 발행주식의 총수 (Ⅱ-Ⅲ)': '147,299,337'}, '2014.3': {' Ⅳ. 발행주식의 총수 (Ⅱ-Ⅲ)': '147,299,337'}, '2014.4': {' Ⅳ. 발행주식의 총수 (Ⅱ-Ⅲ)': '147,299,337'}, '2015.1': {' Ⅳ. 발행주식의 총수 (Ⅱ-Ⅲ)': '147,299,337'}, '2015.2': {' Ⅳ. 발행주식의 총수 (Ⅱ-Ⅲ)': '147,299,337'}, '2015.3': {' Ⅳ. 발행주식의 총수 (Ⅱ-Ⅲ)': '147,299,337'}, '2015.4': {' Ⅳ. 발행주식의 총수 (Ⅱ-Ⅲ)': '147,299,337'}, '2016.1': {' Ⅳ. 발행주식의 총수 (Ⅱ-Ⅲ)': '145,069,337'}, '2016.2': {' Ⅳ. 발행주식의 총수 (Ⅱ-Ⅲ)': '142,969,337'}, '2016.3': {' Ⅳ. 발행주식의 총수 (Ⅱ-Ⅲ)': '140,679,337'}, '2016.4': {' Ⅳ. 발행주식의 총수 (Ⅱ-Ⅲ)': '140,679,337'}, '2017.1': {' Ⅳ. 발행주식의 총수 (Ⅱ-Ⅲ)': '140,679,337'}, '2017.2': {' Ⅳ. 발행주식의 총수 (Ⅱ-Ⅲ)': '130,668,494'}, '2017.3': {' Ⅳ. 발행주식의 총수 (Ⅱ-Ⅲ)': '129,768,494'}, '2017.4': {' Ⅳ. 발행주식의 총수 (Ⅱ-Ⅲ)': '129,098,494'}, '2018.1': {' Ⅳ. 발행주식의 총수 (Ⅱ-Ⅲ)': '128,386,494'}, '2018.2': {' Ⅳ. 발행주식의 총수 (Ⅱ-Ⅲ)': '6,419,324,700'}, '2018.3': {' Ⅳ. 발행주식의 총수 (Ⅱ-Ⅲ)': '6,419,324,700'}, '2018.4': {' Ⅳ. 발행주식의 총수 (Ⅱ-Ⅲ)': '5,969,782,550'}, '2019.1': {' Ⅳ. 발행주식의 총수 (Ⅱ-Ⅲ)': '5,969,782,550'}, '2019.2': {'\\xa0Ⅳ. 발행주식의 총수 (Ⅱ-Ⅲ)': '5,969,782,550'}, '2019.3': {'\\xa0Ⅳ. 발행주식의 총수 (Ⅱ-Ⅲ)': '5,969,782,550'}}\n"
     ]
    },
    {
     "data": {
      "text/plain": [
       "'completed'"
      ]
     },
     "execution_count": 1,
     "metadata": {},
     "output_type": "execute_result"
    }
   ],
   "source": [
    "import import_ipynb\n",
    "import lib_crawlInfo\n",
    "\n",
    "code='005930'\n",
    "\n",
    "lib_crawlInfo.make_stockNumChart('005930')"
   ]
  }
 ],
 "metadata": {
  "kernelspec": {
   "display_name": "Python 3",
   "language": "python",
   "name": "python3"
  },
  "language_info": {
   "codemirror_mode": {
    "name": "ipython",
    "version": 3
   },
   "file_extension": ".py",
   "mimetype": "text/x-python",
   "name": "python",
   "nbconvert_exporter": "python",
   "pygments_lexer": "ipython3",
   "version": "3.7.4"
  }
 },
 "nbformat": 4,
 "nbformat_minor": 4
}
