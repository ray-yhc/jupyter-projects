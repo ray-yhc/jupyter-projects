{
 "cells": [
  {
   "cell_type": "code",
   "execution_count": 19,
   "metadata": {},
   "outputs": [
    {
     "name": "stdout",
     "output_type": "stream",
     "text": [
      "<div class=\"area_links\">\n",
      "<a class=\"al_favorite\" data-clk=\"top.mkhome\" href=\"http://help.naver.com/support/alias/contents2/naverhome/naverhome_1.naver\">네이버를 시작페이지로<span class=\"al_ico_link\"></span></a>\n",
      "<span class=\"al_bar\"></span>\n",
      "<a class=\"al_jr\" data-clk=\"top.jrnaver\" href=\"http://jr.naver.com\"><span class=\"blind\">쥬니어네이버</span><span class=\"al_ico\"></span></a>\n",
      "<a class=\"al_happybean\" data-clk=\"top.happybean\" href=\"http://happybean.naver.com/main/SectionMain.nhn\"><span class=\"blind\">해피빈</span><span class=\"al_ico\"></span></a>\n",
      "</div>\n",
      "\n",
      "\n",
      "\n",
      "<a class=\"al_favorite\" data-clk=\"top.mkhome\" href=\"http://help.naver.com/support/alias/contents2/naverhome/naverhome_1.naver\">네이버를 시작페이지로<span class=\"al_ico_link\"></span></a>\n",
      "\n",
      "\n",
      "\n",
      "네이버를 시작페이지로\n"
     ]
    }
   ],
   "source": [
    "import urllib.request\n",
    "import bs4\n",
    "\n",
    "url=\"https://www.naver.com/\"\n",
    "html=urllib.request.urlopen(url)\n",
    "\n",
    "bsObj=bs4.BeautifulSoup(html, \"html.parser\")\n",
    "\n",
    "# print(html) #html소스가 제대로 온 것 확인할 수 있다. print(html.read()) 는 html 전체 불러옴\n",
    "# print(bsObj.find(\"div\"))\n",
    "\n",
    "top_right=bsObj.find(\"div\", {\"class\":\"area_links\"})\n",
    "\n",
    "print(top_right) \n",
    "print(\"\\n\\n\")\n",
    "print(top_right.find(\"a\"))\n",
    "print(\"\\n\\n\")\n",
    "print(top_right.find(\"a\").text)\n",
    "\n"
   ]
  },
  {
   "cell_type": "code",
   "execution_count": 20,
   "metadata": {},
   "outputs": [
    {
     "name": "stdout",
     "output_type": "stream",
     "text": [
      "<li class=\"an_item\">\n",
      "<a class=\"an_a mn_mail\" data-clk=\"svc.mail\" href=\"https://mail.naver.com/\">\n",
      "<span class=\"an_icon\"></span><span class=\"an_txt\">메일</span>\n",
      "</a>\n",
      "</li>\n",
      "<li class=\"an_item\">\n",
      "<a class=\"an_a mn_cafe\" data-clk=\"svc.cafe\" href=\"https://section.cafe.naver.com/\">\n",
      "<span class=\"an_icon\"></span><span class=\"an_txt\">카페</span>\n",
      "</a>\n",
      "</li>\n",
      "<li class=\"an_item\">\n",
      "<a class=\"an_a mn_blog\" data-clk=\"svc.blog\" href=\"https://section.blog.naver.com/\">\n",
      "<span class=\"an_icon\"></span><span class=\"an_txt\">블로그</span>\n",
      "</a>\n",
      "</li>\n",
      "<li class=\"an_item\">\n",
      "<a class=\"an_a mn_kin\" data-clk=\"svc.kin\" href=\"https://kin.naver.com/\">\n",
      "<span class=\"an_icon\"></span><span class=\"an_txt\">지식인</span>\n",
      "</a>\n",
      "</li>\n",
      "<li class=\"an_item\">\n",
      "<a class=\"an_a mn_shopping\" data-clk=\"svc.shopping\" href=\"https://shopping.naver.com/\">\n",
      "<span class=\"an_icon\"></span><span class=\"an_txt\">쇼핑</span>\n",
      "</a>\n",
      "</li>\n",
      "<li class=\"an_item\">\n",
      "<a class=\"an_a mn_checkout\" data-clk=\"svc.pay\" href=\"https://order.pay.naver.com/home\">\n",
      "<span class=\"an_icon\"></span><span class=\"an_txt\">네이버페이</span>\n",
      "</a>\n",
      "</li>\n",
      "<li class=\"an_item\">\n",
      "<a class=\"an_a mn_tvcast\" data-clk=\"svc.tvcast\" href=\"https://tv.naver.com/\">\n",
      "<span class=\"an_icon\"></span><span class=\"an_txt\">네이버TV</span>\n",
      "</a>\n",
      "</li>\n"
     ]
    }
   ],
   "source": [
    "import bs4\n",
    "import urllib.request\n",
    "\n",
    "url=\"https://www.naver.com/\"\n",
    "html=urllib.request.urlopen(url)\n",
    "bsObj=bs4.BeautifulSoup(html,\"html.parser\")\n",
    "\n",
    "ul_an_l=bsObj.find(\"ul\", {\"class\":\"an_l\"})\n",
    "#print(ul_an_l)\n",
    "\n",
    "#for li in ul_an_l:\n",
    "#    print(li)\n",
    "\n",
    "lis=ul_an_l.findAll(\"li\") #findAll : <li></li> 들의 리스트 생성\n",
    "for li in lis:\n",
    "    print(li)\n"
   ]
  }
 ],
 "metadata": {
  "kernelspec": {
   "display_name": "Python 3",
   "language": "python",
   "name": "python3"
  },
  "language_info": {
   "codemirror_mode": {
    "name": "ipython",
    "version": 3
   },
   "file_extension": ".py",
   "mimetype": "text/x-python",
   "name": "python",
   "nbconvert_exporter": "python",
   "pygments_lexer": "ipython3",
   "version": "3.7.4"
  }
 },
 "nbformat": 4,
 "nbformat_minor": 4
}
