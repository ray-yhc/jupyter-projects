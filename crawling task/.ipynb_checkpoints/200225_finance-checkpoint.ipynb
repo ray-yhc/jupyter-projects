{
 "cells": [
  {
   "cell_type": "code",
   "execution_count": 17,
   "metadata": {},
   "outputs": [
    {
     "name": "stdout",
     "output_type": "stream",
     "text": [
      "삼성전자  57,900\n",
      "LG화학  399,500\n",
      "SK하이닉스  98,000\n"
     ]
    }
   ],
   "source": [
    "import requests\n",
    "from bs4 import BeautifulSoup\n",
    "\n",
    "\n",
    "def get_bsObj(company_code) :\n",
    "    url=\"https://finance.naver.com/item/main.nhn?code=\"+company_code\n",
    "    result=requests.get(url)\n",
    "    bsObj=BeautifulSoup(result.text, \"html.parser\")\n",
    "    return bsObj\n",
    "\n",
    "#회사이름 얻기\n",
    "def get_name(company_code):\n",
    "    bsObj=get_bsObj(company_code)\n",
    "    name=bsObj.find(\"div\", {\"class\":\"wrap_company\"}).find(\"h2\")\n",
    "    return name.text\n",
    "\n",
    "#회사 현재주가 얻기\n",
    "def get_price(company_code) :\n",
    "    bsObj=get_bsObj(company_code)\n",
    "    price=bsObj.find(\"p\", {\"class\":\"no_today\"}).find(\"span\",{\"class\":\"blind\"})\n",
    "    return price.text\n",
    "    \n",
    "company_codes=[\"005930\",\"051910\",\"000660\"] #삼성전자, 하이닉스, lg화학\n",
    "for item in company_codes:\n",
    "    print(get_name(item)+\"  \"+get_price(item))\n",
    "    "
   ]
  },
  {
   "cell_type": "code",
   "execution_count": 34,
   "metadata": {},
   "outputs": [
    {
     "name": "stdout",
     "output_type": "stream",
     "text": [
      "{'open': '56,800', 'close': '57,900', 'high': '57,900', 'low': '56,200'}\n"
     ]
    }
   ],
   "source": [
    "def get_candleChart_data(company_code):\n",
    "    bsObj=get_bsObj(company_code)\n",
    "    stock_open=bsObj.find(\"td\",{\"class\":\"first\"}).find(\"span\",{\"class\":\"blind\"})\n",
    "    stock_close=bsObj.find(\"p\", {\"class\":\"no_today\"}).find(\"span\",{\"class\":\"blind\"})\n",
    "    stock_high=bsObj.find(\"em\", {\"class\":\"no_up\"}).find(\"span\",{\"class\":\"blind\"})\n",
    "    stock_low=bsObj.find(\"em\", {\"class\":\"no_down\"}).find(\"span\",{\"class\":\"blind\"})\n",
    "    return {\"open\":stock_open.text, \"close\":stock_close.text,\"high\":stock_high.text,\"low\":stock_low.text}\n",
    "\n",
    "print(get_candleChart_data(\"005930\"))"
   ]
  }
 ],
 "metadata": {
  "kernelspec": {
   "display_name": "Python 3",
   "language": "python",
   "name": "python3"
  },
  "language_info": {
   "codemirror_mode": {
    "name": "ipython",
    "version": 3
   },
   "file_extension": ".py",
   "mimetype": "text/x-python",
   "name": "python",
   "nbconvert_exporter": "python",
   "pygments_lexer": "ipython3",
   "version": "3.7.4"
  }
 },
 "nbformat": 4,
 "nbformat_minor": 4
}
