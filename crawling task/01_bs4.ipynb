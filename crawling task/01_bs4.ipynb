{
 "cells": [
  {
   "cell_type": "code",
   "execution_count": 14,
   "metadata": {},
   "outputs": [
    {
     "name": "stdout",
     "output_type": "stream",
     "text": [
      "<class 'bs4.BeautifulSoup'>\n",
      "<html>\n",
      "<body>\n",
      "<ul class=\"greet\">\n",
      "<li>hello</li>\n",
      "<li>bye</li>\n",
      "<li>welcome</li>\n",
      "</ul>\n",
      "<ul class=\"reply\">\n",
      "<li>ok</li>\n",
      "<li>no</li>\n",
      "<li>sure</li>\n",
      "</ul>\n",
      "<ul class=\"eat\">\n",
      "<li>breakfast</li>\n",
      "<li>lunch</li>\n",
      "<li>dinner</li>\n",
      "</ul>\n",
      "</body>\n",
      "</html>\n",
      "\n",
      "None\n",
      "<html>\n",
      "<body>\n",
      "<ul class=\"greet\">\n",
      "<li>hello</li>\n",
      "<li>bye</li>\n",
      "<li>welcome</li>\n",
      "</ul>\n",
      "<ul class=\"reply\">\n",
      "<li>ok</li>\n",
      "<li>no</li>\n",
      "<li>sure</li>\n",
      "</ul>\n",
      "<ul class=\"eat\">\n",
      "<li>breakfast</li>\n",
      "<li>lunch</li>\n",
      "<li>dinner</li>\n",
      "</ul>\n",
      "</body>\n",
      "</html>\n"
     ]
    }
   ],
   "source": [
    "import bs4\n",
    "\n",
    "html_str=\"\"\"\n",
    "<html>\n",
    "    <body>\n",
    "        <ul class=\"greet\">\n",
    "            <li>hello</li>\n",
    "            <li>bye</li>\n",
    "            <li>welcome</li>\n",
    "        </ul>\n",
    "        <ul class=\"reply\">\n",
    "            <li>ok</li>\n",
    "            <li>no</li>\n",
    "            <li>sure</li>\n",
    "        </ul>\n",
    "        <ul class=\"eat\">\n",
    "            <li>breakfast</li>\n",
    "            <li>lunch</li>\n",
    "            <li>dinner</li>\n",
    "        </ul>\n",
    "    </body>\n",
    "</html>\n",
    "\"\"\"\n",
    "bsObj = bs4.BeautifulSoup(html_str,\"html.parser\")\n",
    "\n",
    "print(type(bsObj))\n",
    "print(bsObj)\n",
    "print(bsObj.find(\"div\"))\n",
    "print(bsObj.find(\"html\"))"
   ]
  },
  {
   "cell_type": "code",
   "execution_count": null,
   "metadata": {},
   "outputs": [],
   "source": []
  }
 ],
 "metadata": {
  "kernelspec": {
   "display_name": "Python 3",
   "language": "python",
   "name": "python3"
  },
  "language_info": {
   "codemirror_mode": {
    "name": "ipython",
    "version": 3
   },
   "file_extension": ".py",
   "mimetype": "text/x-python",
   "name": "python",
   "nbconvert_exporter": "python",
   "pygments_lexer": "ipython3",
   "version": "3.7.4"
  }
 },
 "nbformat": 4,
 "nbformat_minor": 4
}
